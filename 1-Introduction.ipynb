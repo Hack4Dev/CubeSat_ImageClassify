{
 "cells": [
  {
   "cell_type": "markdown",
   "id": "66fd5795-91cb-49b1-9cc5-3031178b6faf",
   "metadata": {},
   "source": [
    "# Notebook 1: Introduction"
   ]
  },
  {
   "cell_type": "markdown",
   "id": "8d8f753b-4da2-4a51-9eb8-62edae1e0ac2",
   "metadata": {},
   "source": [
    "Welcome! The main goal of this notebook is to provide a clear understanding of the problem at hand to prepare for the hackathon."
   ]
  },
  {
   "cell_type": "markdown",
   "id": "904d0317-af00-4c9a-a2f9-a81cd1f5bd82",
   "metadata": {},
   "source": [
    "---"
   ]
  },
  {
   "cell_type": "markdown",
   "id": "7051d103-0fb8-4247-94d3-f138ecd2e345",
   "metadata": {},
   "source": [
    "## Problem Description"
   ]
  },
  {
   "cell_type": "markdown",
   "id": "a4e6ba01-e8a6-4f3c-b373-6db139d3929c",
   "metadata": {},
   "source": [
    "### Introduction"
   ]
  },
  {
   "cell_type": "markdown",
   "id": "ae1b4465-9fc3-4a5f-ac8f-d830d0961d1b",
   "metadata": {},
   "source": [
    "Nanosatellites are increasingly used as low-cost dedicated sensing systems for astronomical data. Kyushu Institute of Technology (Kyutech) and collaborators have launched a joint venture for a nanosatellite mission, Visible Extragalactic background RadiaTion Exploration by CubeSat [(**VERTECS**)](https://www.spiedigitallibrary.org/conference-proceedings-of-spie/13092/130920W/Astronomical-6U-CubeSat-mission-VERTECS--scientific-objective-and-project/10.1117/12.3014708.short). The primary purpose is to gain information about the formation history of stars by observing the optical-wavelength extragalactic background light (EBL). The **VERTECS** satellite will be equipped with a small-aperture telescope and a high-precision attitude control system to capture the astronomical data for analysis on the ground."
   ]
  },
  {
   "cell_type": "markdown",
   "id": "73dd040b-2b76-4b54-9596-adc571bc9f23",
   "metadata": {},
   "source": [
    "<figure style=\"text-align:center;\">\n",
    "    <img src=\"pictures/SAT.png\" class=\"center-image\" style=\"width:900px; height:400px;\">\n",
    "    <figcaption>Figure 1: VERTECS Satellite Design</figcaption>\n",
    "</figure>"
   ]
  },
  {
   "cell_type": "markdown",
   "id": "bc88efda-4eee-428e-a1ed-3471854c36ba",
   "metadata": {},
   "source": [
    "However, nanosatellites like VERTECS face challenges due to their size and weight constraints. These limitations affect computational power, onboard storage, and communication capabilities, leading to slower data transmission. As a result, they struggle to send large volumes of data quickly, which can impact the efficiency of missions that rely on fast or continuous data updates."
   ]
  },
  {
   "cell_type": "markdown",
   "id": "0e6d695e-0417-4cf8-a9f2-dd80be5c5dd0",
   "metadata": {},
   "source": [
    "To solve the problem of slow data transmission in CubeSats, we can use machine learning techniques directly on the satellite. This allows the CubeSat to select **`priority`** data before sending it to the ground, making the process more efficient."
   ]
  },
  {
   "cell_type": "markdown",
   "id": "6df0ebdb-6ec0-4c69-bee9-9e6bd7c7104b",
   "metadata": {},
   "source": [
    "### The goal of this hackathon "
   ]
  },
  {
   "cell_type": "markdown",
   "id": "86361887-c914-41c4-9714-a7160426f825",
   "metadata": {},
   "source": [
    "Develop a machine learning model that accurately classifies data captured by CubeSats. The goal is to prioritize images that are most valuable for transmission back to Earth, given the limited onboard resources and slow data downlink speeds. Your task is to create a lightweight model that improves the efficiency and/or classification accuracy of the existing solution in this [paper](https://arxiv.org/pdf/2408.14865)."
   ]
  },
  {
   "cell_type": "markdown",
   "id": "5d124f84-532a-47f1-84eb-bd97082d8c80",
   "metadata": {},
   "source": [
    "---"
   ]
  },
  {
   "cell_type": "markdown",
   "id": "72d4d1ee-eb25-4dc3-96f7-560ec65277f2",
   "metadata": {},
   "source": [
    "## Prizes"
   ]
  },
  {
   "cell_type": "markdown",
   "id": "3fd77191-cb3e-40c6-a0b3-8ecf107b23f5",
   "metadata": {},
   "source": [
    "### A: Best Team per Regional Hackathon:"
   ]
  },
  {
   "cell_type": "markdown",
   "id": "9d60c84e-06d7-4164-99fd-c17246a1eb24",
   "metadata": {},
   "source": [
    "Every team will present their work at their local events in front of local organizers and peers. 🎤 Each team will have **6 minutes** to present their work. The winning team from each regional hackathon will receive prizes worth approximately 3000 ZAR 🏆. Teams will be judged based on the following criteria:\n",
    "\n",
    "1. **Clarity of Problem Description**\n",
    "2. **Novelty**\n",
    "3. **Use of Graphics**\n",
    "4. **Presentation Skills**\n",
    "5. **Team Collaboration**\n",
    "\n",
    "For more detailed guidelines on how the judges will be evaluating you, please visit the following  [page](https://docs.google.com/document/d/1CUyLNZtQ8htKBXVJ-zhDiQpBoC8QY2eMx3aZMd1NhIo/edit).\n",
    "\n",
    "**Note**: All team members must participate in the presentation, sharing different parts of it among themselves. For example, one member can describe the problem, another can discuss the solution, and so on."
   ]
  },
  {
   "cell_type": "markdown",
   "id": "c551bc49-5d1e-4a43-9b06-c31de7785710",
   "metadata": {},
   "source": [
    "### B: Best overall pipeline across all Regional hackathons:"
   ]
  },
  {
   "cell_type": "markdown",
   "id": "7677c6e5-5445-4e68-8401-f5a37bb34404",
   "metadata": {},
   "source": [
    "Every team from **each regional hackathon** has the opportunity to compete for this prize. To participate, all teams must submit the following to a shared folder managed by their local organizers:\n",
    "\n",
    "1. **Slides Presentation:** The slides used during their regional hackathon presentation.\n",
    "2. **Notebook:** Submit one clear, comprehensive notebook alongside all steps to reach the final results, written so that anyone can run the code successfully. **The trained model** must also be included in the submission. 🛑 Submitting more than one notebook or pipeline will result in **disqualification**.\n",
    "3. **Written Description:** Teams must submit a 200-350 word description, with relevant graphs if necessary, covering the following:\n",
    "    1. **Preprocessing & ML Methods:** Summarize the preprocessing and machine learning techniques used, and justify the pipeline choice (experimentation or by literature review).\n",
    "    2. **Results:** Highlight key outcomes and explain how they compare with previous work, emphasizing the novelty of your approach.\n",
    "       \n",
    "**To assist you in structuring your description, we’ve provided a [template](https://docs.google.com/document/d/1M5qOSSBSFUYCXGsg7KwuWY8gYlInKFP_PJHYLKjibRk/edit?tab=t.0#heading=h.gzmom18r0hd0) that you can use**\n",
    "\n"
   ]
  },
  {
   "cell_type": "markdown",
   "id": "123f2d2a-8296-4e34-b3f4-d92d73e7da75",
   "metadata": {},
   "source": [
    "A committee of experienced ML academics will evaluate each team’s pipeline based on the clarity of their slides, notebooks, and write-ups, as well as the novelty of their approach. All teams are highly encouraged to apply 🙌, as we will use a separate testing set, and your results may vary from the validation set you’ve used.\n",
    "\n",
    "🎉 **Prize:** The winning team will be featured as co-authors on an academic paper written by Hack4dev and will receive an additional prize of **10,000ZAR**.\n",
    "\n"
   ]
  },
  {
   "cell_type": "markdown",
   "id": "6a0d2e6f-c83a-4689-b714-c1c3c533503d",
   "metadata": {},
   "source": [
    "⚠️ **Important**: The notebook, trained model, and slides must be submitted before the presentation begins on the final day of the hackathon. The write-up can be submitted within a week following the conclusion of your regional hackathon. 🛑 Ensure all submissions are on time to avoid disqualification. All documents must be submitted in English.\n",
    "\n",
    "Good luck! 🍀"
   ]
  },
  {
   "cell_type": "markdown",
   "id": "03a07bac-2f90-454e-a7c1-9f1534fc14be",
   "metadata": {},
   "source": [
    "---"
   ]
  },
  {
   "cell_type": "markdown",
   "id": "41726447-4d9a-4c46-b58b-d300066995d5",
   "metadata": {},
   "source": [
    "## Structure for the Upcoming Notebooks"
   ]
  },
  {
   "cell_type": "markdown",
   "id": "7efe61d6-e918-44b7-907b-550a8b801967",
   "metadata": {},
   "source": [
    "- Notebook 2: **Data Reading** – This notebook handles reading and visualizing the data.\n",
    "- Notebook 3: **ML** – Here we train a classical ML model and evaluate it against the model in Notebook 4.\n",
    "- Notebook 4: **CubeSatNet_CNN** – Trains the model provided by the authors in [link](https://arxiv.org/pdf/2408.14865) and uses it as a baseline against Notebook 3. Only run it if you’re adopting or experimenting with this model, as it can take up to two hours to train with the original data.\n",
    "- Notebook 5 **Evaluation** - \n"
   ]
  }
 ],
 "metadata": {
  "kernelspec": {
   "display_name": "CubeHackKer",
   "language": "python",
   "name": "cubehackker"
  },
  "language_info": {
   "codemirror_mode": {
    "name": "ipython",
    "version": 3
   },
   "file_extension": ".py",
   "mimetype": "text/x-python",
   "name": "python",
   "nbconvert_exporter": "python",
   "pygments_lexer": "ipython3",
   "version": "3.10.12"
  }
 },
 "nbformat": 4,
 "nbformat_minor": 5
}
